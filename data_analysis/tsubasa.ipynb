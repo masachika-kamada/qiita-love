{
 "cells": [
  {
   "cell_type": "code",
   "execution_count": 1,
   "metadata": {},
   "outputs": [],
   "source": [
    "import pandas as pd\n",
    "import numpy as np\n",
    "import matplotlib.pyplot as plt"
   ]
  },
  {
   "cell_type": "code",
   "execution_count": 2,
   "metadata": {},
   "outputs": [
    {
     "data": {
      "text/html": [
       "<div>\n",
       "<style scoped>\n",
       "    .dataframe tbody tr th:only-of-type {\n",
       "        vertical-align: middle;\n",
       "    }\n",
       "\n",
       "    .dataframe tbody tr th {\n",
       "        vertical-align: top;\n",
       "    }\n",
       "\n",
       "    .dataframe thead th {\n",
       "        text-align: right;\n",
       "    }\n",
       "</style>\n",
       "<table border=\"1\" class=\"dataframe\">\n",
       "  <thead>\n",
       "    <tr style=\"text-align: right;\">\n",
       "      <th></th>\n",
       "      <th>likes_count</th>\n",
       "      <th>title</th>\n",
       "      <th>body</th>\n",
       "      <th>created_date</th>\n",
       "      <th>created_time</th>\n",
       "      <th>tags</th>\n",
       "      <th>followers_count</th>\n",
       "      <th>organization</th>\n",
       "      <th>items_count</th>\n",
       "    </tr>\n",
       "  </thead>\n",
       "  <tbody>\n",
       "    <tr>\n",
       "      <th>0</th>\n",
       "      <td>1.0</td>\n",
       "      <td>品質担保に本気で取り組んでみている話</td>\n",
       "      <td>株式会社オズビジョンの @terra_yucco です。2020/01 現在、オズビジョン ...</td>\n",
       "      <td>2020-01-31</td>\n",
       "      <td>23:59:59</td>\n",
       "      <td>['仕様', '品質管理', '品質', 'QCD']</td>\n",
       "      <td>43.0</td>\n",
       "      <td>OZvision Inc.</td>\n",
       "      <td>97.0</td>\n",
       "    </tr>\n",
       "    <tr>\n",
       "      <th>1</th>\n",
       "      <td>5.0</td>\n",
       "      <td>【Unity】Screen.safeAreaとiOSステータスバーの罠（？）</td>\n",
       "      <td># Unityで取得できる Screen.safeAreaには罠（？）がある罠に遭遇したのは...</td>\n",
       "      <td>2020-01-31</td>\n",
       "      <td>23:56:36</td>\n",
       "      <td>['iOS', 'Unity', 'SafeArea']</td>\n",
       "      <td>2.0</td>\n",
       "      <td>NaN</td>\n",
       "      <td>7.0</td>\n",
       "    </tr>\n",
       "    <tr>\n",
       "      <th>2</th>\n",
       "      <td>3.0</td>\n",
       "      <td>徹底攻略！“SATySFiのロゴ”の出し方</td>\n",
       "      <td>**SATySFiのロゴ**といえば、もちろんコレですね。![image-1a.png](h...</td>\n",
       "      <td>2020-01-31</td>\n",
       "      <td>23:54:15</td>\n",
       "      <td>['SATySFi']</td>\n",
       "      <td>157.0</td>\n",
       "      <td>NaN</td>\n",
       "      <td>65.0</td>\n",
       "    </tr>\n",
       "    <tr>\n",
       "      <th>3</th>\n",
       "      <td>0.0</td>\n",
       "      <td>【KPI】家系図テーブルの操作 1【oracle】</td>\n",
       "      <td>某炎の紋章の家系図見てて、TRPGなどに使えるかなと思って家系図テーブルの運用を考える。階層...</td>\n",
       "      <td>2020-01-31</td>\n",
       "      <td>23:50:44</td>\n",
       "      <td>['oracle']</td>\n",
       "      <td>1.0</td>\n",
       "      <td>NaN</td>\n",
       "      <td>10.0</td>\n",
       "    </tr>\n",
       "    <tr>\n",
       "      <th>4</th>\n",
       "      <td>0.0</td>\n",
       "      <td>プログラミング・フォロを組み立てる</td>\n",
       "      <td>#プログラミング・フォロmicro:bitを内蔵して６本足で自律して歩き回ることの出来る [...</td>\n",
       "      <td>2020-01-31</td>\n",
       "      <td>23:45:47</td>\n",
       "      <td>['RaspberryPi', 'microbit']</td>\n",
       "      <td>3.0</td>\n",
       "      <td>NaN</td>\n",
       "      <td>11.0</td>\n",
       "    </tr>\n",
       "  </tbody>\n",
       "</table>\n",
       "</div>"
      ],
      "text/plain": [
       "   likes_count                                   title  \\\n",
       "0          1.0                      品質担保に本気で取り組んでみている話   \n",
       "1          5.0  【Unity】Screen.safeAreaとiOSステータスバーの罠（？）   \n",
       "2          3.0                   徹底攻略！“SATySFiのロゴ”の出し方   \n",
       "3          0.0               【KPI】家系図テーブルの操作 1【oracle】   \n",
       "4          0.0                       プログラミング・フォロを組み立てる   \n",
       "\n",
       "                                                body created_date  \\\n",
       "0  株式会社オズビジョンの @terra_yucco です。2020/01 現在、オズビジョン ...   2020-01-31   \n",
       "1  # Unityで取得できる Screen.safeAreaには罠（？）がある罠に遭遇したのは...   2020-01-31   \n",
       "2  **SATySFiのロゴ**といえば、もちろんコレですね。![image-1a.png](h...   2020-01-31   \n",
       "3  某炎の紋章の家系図見てて、TRPGなどに使えるかなと思って家系図テーブルの運用を考える。階層...   2020-01-31   \n",
       "4  #プログラミング・フォロmicro:bitを内蔵して６本足で自律して歩き回ることの出来る [...   2020-01-31   \n",
       "\n",
       "  created_time                          tags  followers_count   organization  \\\n",
       "0     23:59:59   ['仕様', '品質管理', '品質', 'QCD']             43.0  OZvision Inc.   \n",
       "1     23:56:36  ['iOS', 'Unity', 'SafeArea']              2.0            NaN   \n",
       "2     23:54:15                   ['SATySFi']            157.0            NaN   \n",
       "3     23:50:44                    ['oracle']              1.0            NaN   \n",
       "4     23:45:47   ['RaspberryPi', 'microbit']              3.0            NaN   \n",
       "\n",
       "   items_count  \n",
       "0         97.0  \n",
       "1          7.0  \n",
       "2         65.0  \n",
       "3         10.0  \n",
       "4         11.0  "
      ]
     },
     "execution_count": 2,
     "metadata": {},
     "output_type": "execute_result"
    }
   ],
   "source": [
    "# 1月から12月までのデータを読み込んで結合しdfに格納\n",
    "df = pd.DataFrame()\n",
    "for i in range(1, 13):\n",
    "    df_tmp = pd.read_csv(f\"../data_collection/data/2020-{i:02}.csv\", encoding=\"utf8\")\n",
    "    df = pd.concat([df, df_tmp], ignore_index=True)\n",
    "df.head()"
   ]
  },
  {
   "cell_type": "code",
   "execution_count": 3,
   "metadata": {},
   "outputs": [
    {
     "data": {
      "text/plain": [
       "1"
      ]
     },
     "execution_count": 3,
     "metadata": {},
     "output_type": "execute_result"
    }
   ],
   "source": [
    "# dfのlikes_countに欠損値がないか確認\n",
    "df[\"likes_count\"].isnull().sum()"
   ]
  },
  {
   "cell_type": "code",
   "execution_count": 4,
   "metadata": {},
   "outputs": [
    {
     "data": {
      "text/plain": [
       "likes_count        float64\n",
       "title               object\n",
       "body                object\n",
       "created_date        object\n",
       "created_time        object\n",
       "tags                object\n",
       "followers_count    float64\n",
       "organization        object\n",
       "items_count        float64\n",
       "dtype: object"
      ]
     },
     "execution_count": 4,
     "metadata": {},
     "output_type": "execute_result"
    }
   ],
   "source": [
    "# dfの各カラムのデータ型を確認\n",
    "df.dtypes"
   ]
  },
  {
   "cell_type": "code",
   "execution_count": 5,
   "metadata": {},
   "outputs": [
    {
     "data": {
      "text/plain": [
       "likes_count             1\n",
       "title                   0\n",
       "body                    1\n",
       "created_date            1\n",
       "created_time            1\n",
       "tags                    1\n",
       "followers_count         2\n",
       "organization       110525\n",
       "items_count             2\n",
       "dtype: int64"
      ]
     },
     "execution_count": 5,
     "metadata": {},
     "output_type": "execute_result"
    }
   ],
   "source": [
    "# dfの各カラムの欠損値の数を確認\n",
    "df.isnull().sum()"
   ]
  },
  {
   "cell_type": "code",
   "execution_count": 6,
   "metadata": {},
   "outputs": [
    {
     "data": {
      "text/html": [
       "<div>\n",
       "<style scoped>\n",
       "    .dataframe tbody tr th:only-of-type {\n",
       "        vertical-align: middle;\n",
       "    }\n",
       "\n",
       "    .dataframe tbody tr th {\n",
       "        vertical-align: top;\n",
       "    }\n",
       "\n",
       "    .dataframe thead th {\n",
       "        text-align: right;\n",
       "    }\n",
       "</style>\n",
       "<table border=\"1\" class=\"dataframe\">\n",
       "  <thead>\n",
       "    <tr style=\"text-align: right;\">\n",
       "      <th></th>\n",
       "      <th>likes_count</th>\n",
       "      <th>title</th>\n",
       "      <th>body</th>\n",
       "      <th>created_date</th>\n",
       "      <th>created_time</th>\n",
       "      <th>tags</th>\n",
       "      <th>followers_count</th>\n",
       "      <th>organization</th>\n",
       "      <th>items_count</th>\n",
       "    </tr>\n",
       "  </thead>\n",
       "  <tbody>\n",
       "    <tr>\n",
       "      <th>0</th>\n",
       "      <td>1.0</td>\n",
       "      <td>品質担保に本気で取り組んでみている話</td>\n",
       "      <td>株式会社オズビジョンの @terra_yucco です。2020/01 現在、オズビジョン ...</td>\n",
       "      <td>2020-01-31</td>\n",
       "      <td>23:59:59</td>\n",
       "      <td>['仕様', '品質管理', '品質', 'QCD']</td>\n",
       "      <td>43.0</td>\n",
       "      <td>True</td>\n",
       "      <td>97.0</td>\n",
       "    </tr>\n",
       "    <tr>\n",
       "      <th>1</th>\n",
       "      <td>5.0</td>\n",
       "      <td>【Unity】Screen.safeAreaとiOSステータスバーの罠（？）</td>\n",
       "      <td># Unityで取得できる Screen.safeAreaには罠（？）がある罠に遭遇したのは...</td>\n",
       "      <td>2020-01-31</td>\n",
       "      <td>23:56:36</td>\n",
       "      <td>['iOS', 'Unity', 'SafeArea']</td>\n",
       "      <td>2.0</td>\n",
       "      <td>False</td>\n",
       "      <td>7.0</td>\n",
       "    </tr>\n",
       "    <tr>\n",
       "      <th>2</th>\n",
       "      <td>3.0</td>\n",
       "      <td>徹底攻略！“SATySFiのロゴ”の出し方</td>\n",
       "      <td>**SATySFiのロゴ**といえば、もちろんコレですね。![image-1a.png](h...</td>\n",
       "      <td>2020-01-31</td>\n",
       "      <td>23:54:15</td>\n",
       "      <td>['SATySFi']</td>\n",
       "      <td>157.0</td>\n",
       "      <td>False</td>\n",
       "      <td>65.0</td>\n",
       "    </tr>\n",
       "    <tr>\n",
       "      <th>3</th>\n",
       "      <td>0.0</td>\n",
       "      <td>【KPI】家系図テーブルの操作 1【oracle】</td>\n",
       "      <td>某炎の紋章の家系図見てて、TRPGなどに使えるかなと思って家系図テーブルの運用を考える。階層...</td>\n",
       "      <td>2020-01-31</td>\n",
       "      <td>23:50:44</td>\n",
       "      <td>['oracle']</td>\n",
       "      <td>1.0</td>\n",
       "      <td>False</td>\n",
       "      <td>10.0</td>\n",
       "    </tr>\n",
       "    <tr>\n",
       "      <th>4</th>\n",
       "      <td>0.0</td>\n",
       "      <td>プログラミング・フォロを組み立てる</td>\n",
       "      <td>#プログラミング・フォロmicro:bitを内蔵して６本足で自律して歩き回ることの出来る [...</td>\n",
       "      <td>2020-01-31</td>\n",
       "      <td>23:45:47</td>\n",
       "      <td>['RaspberryPi', 'microbit']</td>\n",
       "      <td>3.0</td>\n",
       "      <td>False</td>\n",
       "      <td>11.0</td>\n",
       "    </tr>\n",
       "  </tbody>\n",
       "</table>\n",
       "</div>"
      ],
      "text/plain": [
       "   likes_count                                   title  \\\n",
       "0          1.0                      品質担保に本気で取り組んでみている話   \n",
       "1          5.0  【Unity】Screen.safeAreaとiOSステータスバーの罠（？）   \n",
       "2          3.0                   徹底攻略！“SATySFiのロゴ”の出し方   \n",
       "3          0.0               【KPI】家系図テーブルの操作 1【oracle】   \n",
       "4          0.0                       プログラミング・フォロを組み立てる   \n",
       "\n",
       "                                                body created_date  \\\n",
       "0  株式会社オズビジョンの @terra_yucco です。2020/01 現在、オズビジョン ...   2020-01-31   \n",
       "1  # Unityで取得できる Screen.safeAreaには罠（？）がある罠に遭遇したのは...   2020-01-31   \n",
       "2  **SATySFiのロゴ**といえば、もちろんコレですね。![image-1a.png](h...   2020-01-31   \n",
       "3  某炎の紋章の家系図見てて、TRPGなどに使えるかなと思って家系図テーブルの運用を考える。階層...   2020-01-31   \n",
       "4  #プログラミング・フォロmicro:bitを内蔵して６本足で自律して歩き回ることの出来る [...   2020-01-31   \n",
       "\n",
       "  created_time                          tags  followers_count  organization  \\\n",
       "0     23:59:59   ['仕様', '品質管理', '品質', 'QCD']             43.0          True   \n",
       "1     23:56:36  ['iOS', 'Unity', 'SafeArea']              2.0         False   \n",
       "2     23:54:15                   ['SATySFi']            157.0         False   \n",
       "3     23:50:44                    ['oracle']              1.0         False   \n",
       "4     23:45:47   ['RaspberryPi', 'microbit']              3.0         False   \n",
       "\n",
       "   items_count  \n",
       "0         97.0  \n",
       "1          7.0  \n",
       "2         65.0  \n",
       "3         10.0  \n",
       "4         11.0  "
      ]
     },
     "execution_count": 6,
     "metadata": {},
     "output_type": "execute_result"
    }
   ],
   "source": [
    "# organizationに値が入っていればTrue、欠損していればFalseに置き換える\n",
    "df[\"organization\"] = df[\"organization\"].notnull()\n",
    "# 欠損値がある行を削除\n",
    "df = df.dropna()\n",
    "df.head()"
   ]
  },
  {
   "cell_type": "code",
   "execution_count": 7,
   "metadata": {},
   "outputs": [
    {
     "data": {
      "text/html": [
       "<div>\n",
       "<style scoped>\n",
       "    .dataframe tbody tr th:only-of-type {\n",
       "        vertical-align: middle;\n",
       "    }\n",
       "\n",
       "    .dataframe tbody tr th {\n",
       "        vertical-align: top;\n",
       "    }\n",
       "\n",
       "    .dataframe thead th {\n",
       "        text-align: right;\n",
       "    }\n",
       "</style>\n",
       "<table border=\"1\" class=\"dataframe\">\n",
       "  <thead>\n",
       "    <tr style=\"text-align: right;\">\n",
       "      <th></th>\n",
       "      <th>likes_count</th>\n",
       "      <th>concat</th>\n",
       "    </tr>\n",
       "  </thead>\n",
       "  <tbody>\n",
       "    <tr>\n",
       "      <th>0</th>\n",
       "      <td>1.0</td>\n",
       "      <td>品質担保に本気で取り組んでみている話株式会社オズビジョンの @terra_yucco です。...</td>\n",
       "    </tr>\n",
       "    <tr>\n",
       "      <th>1</th>\n",
       "      <td>5.0</td>\n",
       "      <td>【Unity】Screen.safeAreaとiOSステータスバーの罠（？）# Unityで...</td>\n",
       "    </tr>\n",
       "    <tr>\n",
       "      <th>2</th>\n",
       "      <td>3.0</td>\n",
       "      <td>徹底攻略！“SATySFiのロゴ”の出し方**SATySFiのロゴ**といえば、もちろんコレ...</td>\n",
       "    </tr>\n",
       "    <tr>\n",
       "      <th>3</th>\n",
       "      <td>0.0</td>\n",
       "      <td>【KPI】家系図テーブルの操作 1【oracle】某炎の紋章の家系図見てて、TRPGなどに使...</td>\n",
       "    </tr>\n",
       "    <tr>\n",
       "      <th>4</th>\n",
       "      <td>0.0</td>\n",
       "      <td>プログラミング・フォロを組み立てる#プログラミング・フォロmicro:bitを内蔵して６本足...</td>\n",
       "    </tr>\n",
       "  </tbody>\n",
       "</table>\n",
       "</div>"
      ],
      "text/plain": [
       "   likes_count                                             concat\n",
       "0          1.0  品質担保に本気で取り組んでみている話株式会社オズビジョンの @terra_yucco です。...\n",
       "1          5.0  【Unity】Screen.safeAreaとiOSステータスバーの罠（？）# Unityで...\n",
       "2          3.0  徹底攻略！“SATySFiのロゴ”の出し方**SATySFiのロゴ**といえば、もちろんコレ...\n",
       "3          0.0  【KPI】家系図テーブルの操作 1【oracle】某炎の紋章の家系図見てて、TRPGなどに使...\n",
       "4          0.0  プログラミング・フォロを組み立てる#プログラミング・フォロmicro:bitを内蔵して６本足..."
      ]
     },
     "execution_count": 7,
     "metadata": {},
     "output_type": "execute_result"
    }
   ],
   "source": [
    "# likes_count以外のカラムを結合する\n",
    "df[\"concat\"] = df[\"title\"] + df[\"body\"] + df[\"created_date\"] + df[\"created_time\"] + df[\"tags\"] + df[\"followers_count\"].astype(str) + df[\"organization\"].astype(str) + df[\"items_count\"].astype(str)\n",
    "df = df[[\"likes_count\", \"concat\"]]\n",
    "df.head()"
   ]
  },
  {
   "cell_type": "code",
   "execution_count": 8,
   "metadata": {},
   "outputs": [],
   "source": [
    "# TF-IDFを計算する\n",
    "from sklearn.feature_extraction.text import TfidfVectorizer\n",
    "tfidf = TfidfVectorizer()\n",
    "concat_tfidf = tfidf.fit_transform(df[\"concat\"])"
   ]
  },
  {
   "cell_type": "code",
   "execution_count": 9,
   "metadata": {},
   "outputs": [
    {
     "data": {
      "text/plain": [
       "array([[ 0.00755918,  0.00025082,  0.00650007, ...,  0.00021681,\n",
       "         0.01537279, -0.00756345],\n",
       "       [ 0.03758653, -0.00330601,  0.00759356, ...,  0.00101932,\n",
       "         0.00118945, -0.00648707],\n",
       "       [ 0.15294273, -0.04374157, -0.02790716, ..., -0.01198638,\n",
       "        -0.0257587 ,  0.01347837],\n",
       "       ...,\n",
       "       [ 0.16816063, -0.04128134, -0.04477716, ...,  0.00336025,\n",
       "         0.0105907 , -0.01005431],\n",
       "       [ 0.03546917,  0.01210465,  0.07014037, ..., -0.07701336,\n",
       "        -0.05965411, -0.01725573],\n",
       "       [ 0.04915789,  0.005769  ,  0.09346561, ..., -0.04113588,\n",
       "        -0.00060349,  0.02392758]])"
      ]
     },
     "execution_count": 9,
     "metadata": {},
     "output_type": "execute_result"
    }
   ],
   "source": [
    "# 次元削減\n",
    "from sklearn.decomposition import TruncatedSVD\n",
    "svd = TruncatedSVD(n_components=8)\n",
    "concat_svd = svd.fit_transform(concat_tfidf)\n",
    "concat_svd"
   ]
  },
  {
   "cell_type": "code",
   "execution_count": 10,
   "metadata": {},
   "outputs": [
    {
     "name": "stdout",
     "output_type": "stream",
     "text": [
      "(140801, 10228682)\n",
      "(140801, 8)\n"
     ]
    }
   ],
   "source": [
    "print(concat_tfidf.shape)\n",
    "print(concat_svd.shape)"
   ]
  },
  {
   "cell_type": "code",
   "execution_count": 11,
   "metadata": {},
   "outputs": [
    {
     "data": {
      "text/html": [
       "<div>\n",
       "<style scoped>\n",
       "    .dataframe tbody tr th:only-of-type {\n",
       "        vertical-align: middle;\n",
       "    }\n",
       "\n",
       "    .dataframe tbody tr th {\n",
       "        vertical-align: top;\n",
       "    }\n",
       "\n",
       "    .dataframe thead th {\n",
       "        text-align: right;\n",
       "    }\n",
       "</style>\n",
       "<table border=\"1\" class=\"dataframe\">\n",
       "  <thead>\n",
       "    <tr style=\"text-align: right;\">\n",
       "      <th></th>\n",
       "      <th>likes_count</th>\n",
       "      <th>0</th>\n",
       "      <th>1</th>\n",
       "      <th>2</th>\n",
       "      <th>3</th>\n",
       "      <th>4</th>\n",
       "      <th>5</th>\n",
       "      <th>6</th>\n",
       "      <th>7</th>\n",
       "    </tr>\n",
       "  </thead>\n",
       "  <tbody>\n",
       "    <tr>\n",
       "      <th>0</th>\n",
       "      <td>1.0</td>\n",
       "      <td>0.007559</td>\n",
       "      <td>0.000251</td>\n",
       "      <td>0.006500</td>\n",
       "      <td>0.003655</td>\n",
       "      <td>0.004364</td>\n",
       "      <td>0.000217</td>\n",
       "      <td>0.015373</td>\n",
       "      <td>-0.007563</td>\n",
       "    </tr>\n",
       "    <tr>\n",
       "      <th>1</th>\n",
       "      <td>5.0</td>\n",
       "      <td>0.037587</td>\n",
       "      <td>-0.003306</td>\n",
       "      <td>0.007594</td>\n",
       "      <td>-0.000910</td>\n",
       "      <td>0.006808</td>\n",
       "      <td>0.001019</td>\n",
       "      <td>0.001189</td>\n",
       "      <td>-0.006487</td>\n",
       "    </tr>\n",
       "    <tr>\n",
       "      <th>2</th>\n",
       "      <td>3.0</td>\n",
       "      <td>0.152943</td>\n",
       "      <td>-0.043742</td>\n",
       "      <td>-0.027907</td>\n",
       "      <td>-0.024460</td>\n",
       "      <td>-0.009242</td>\n",
       "      <td>-0.011986</td>\n",
       "      <td>-0.025759</td>\n",
       "      <td>0.013478</td>\n",
       "    </tr>\n",
       "    <tr>\n",
       "      <th>3</th>\n",
       "      <td>0.0</td>\n",
       "      <td>0.069294</td>\n",
       "      <td>0.001124</td>\n",
       "      <td>0.085400</td>\n",
       "      <td>-0.009223</td>\n",
       "      <td>0.045764</td>\n",
       "      <td>-0.027664</td>\n",
       "      <td>0.006789</td>\n",
       "      <td>-0.000517</td>\n",
       "    </tr>\n",
       "    <tr>\n",
       "      <th>4</th>\n",
       "      <td>0.0</td>\n",
       "      <td>0.172528</td>\n",
       "      <td>-0.052621</td>\n",
       "      <td>-0.062162</td>\n",
       "      <td>0.003490</td>\n",
       "      <td>0.003647</td>\n",
       "      <td>-0.003555</td>\n",
       "      <td>0.000803</td>\n",
       "      <td>0.003959</td>\n",
       "    </tr>\n",
       "  </tbody>\n",
       "</table>\n",
       "</div>"
      ],
      "text/plain": [
       "   likes_count         0         1         2         3         4         5  \\\n",
       "0          1.0  0.007559  0.000251  0.006500  0.003655  0.004364  0.000217   \n",
       "1          5.0  0.037587 -0.003306  0.007594 -0.000910  0.006808  0.001019   \n",
       "2          3.0  0.152943 -0.043742 -0.027907 -0.024460 -0.009242 -0.011986   \n",
       "3          0.0  0.069294  0.001124  0.085400 -0.009223  0.045764 -0.027664   \n",
       "4          0.0  0.172528 -0.052621 -0.062162  0.003490  0.003647 -0.003555   \n",
       "\n",
       "          6         7  \n",
       "0  0.015373 -0.007563  \n",
       "1  0.001189 -0.006487  \n",
       "2 -0.025759  0.013478  \n",
       "3  0.006789 -0.000517  \n",
       "4  0.000803  0.003959  "
      ]
     },
     "execution_count": 11,
     "metadata": {},
     "output_type": "execute_result"
    }
   ],
   "source": [
    "# 元のデータフレームに結合\n",
    "num = concat_svd.shape[1]\n",
    "text_df = pd.DataFrame(concat_svd, columns=[str(i) for i in range(num)])\n",
    "\n",
    "df = pd.concat([df, text_df], axis=1)\n",
    "df = df.drop([\"concat\"], axis=1)\n",
    "df.head()"
   ]
  },
  {
   "cell_type": "code",
   "execution_count": 12,
   "metadata": {},
   "outputs": [],
   "source": [
    "# trainとtestに分割する(likes_countを目的変数とする)\n",
    "from sklearn.model_selection import train_test_split\n",
    "train, test = train_test_split(df, test_size=0.3)\n",
    "train_y = train[\"likes_count\"]\n",
    "train_X = train.drop([\"likes_count\"], axis=1)\n",
    "test_y = test[\"likes_count\"]\n",
    "test_X = test.drop([\"likes_count\"], axis=1)"
   ]
  },
  {
   "cell_type": "code",
   "execution_count": 13,
   "metadata": {},
   "outputs": [],
   "source": [
    "# LGBMでモデルの学習\n",
    "import lightgbm as lgb\n",
    "model = lgb.LGBMRegressor()\n",
    "model.fit(train_X, train_y)\n",
    "\n",
    "# テストデータの予測\n",
    "y_pred = model.predict(test_X)"
   ]
  },
  {
   "cell_type": "code",
   "execution_count": 14,
   "metadata": {},
   "outputs": [
    {
     "data": {
      "text/plain": [
       "12.67323156412816"
      ]
     },
     "execution_count": 14,
     "metadata": {},
     "output_type": "execute_result"
    }
   ],
   "source": [
    "# 平均絶対誤差を計算\n",
    "from sklearn.metrics import mean_absolute_error\n",
    "mean_absolute_error(test_y, y_pred)"
   ]
  },
  {
   "cell_type": "code",
   "execution_count": 15,
   "metadata": {},
   "outputs": [
    {
     "data": {
      "image/png": "[encoded data removed]",
      "text/plain": [
       "<Figure size 432x288 with 1 Axes>"
      ]
     },
     "metadata": {
      "needs_background": "light"
     },
     "output_type": "display_data"
    }
   ],
   "source": [
    "# 散布図を描画\n",
    "plt.scatter(test_y, y_pred)\n",
    "plt.xlabel(\"actual\")\n",
    "plt.ylabel(\"predicted\")\n",
    "plt.show()"
   ]
  },
  {
   "cell_type": "code",
   "execution_count": null,
   "metadata": {},
   "outputs": [],
   "source": []
  }
 ],
 "metadata": {
  "kernelspec": {
   "display_name": "qiita",
   "language": "python",
   "name": "python3"
  },
  "language_info": {
   "codemirror_mode": {
    "name": "ipython",
    "version": 3
   },
   "file_extension": ".py",
   "mimetype": "text/x-python",
   "name": "python",
   "nbconvert_exporter": "python",
   "pygments_lexer": "ipython3",
   "version": "3.10.8 | packaged by conda-forge | (main, Nov 24 2022, 14:07:00) [MSC v.1916 64 bit (AMD64)]"
  },
  "orig_nbformat": 4,
  "vscode": {
   "interpreter": {
    "hash": "c7213027f19972ebf0eabaa3af4f9f37ae828f17e95ec243f0527716e3e78786"
   }
  }
 },
 "nbformat": 4,
 "nbformat_minor": 2
}
